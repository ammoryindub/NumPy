{
 "cells": [
  {
   "cell_type": "markdown",
   "id": "2b20353a",
   "metadata": {},
   "source": [
    "# Numpy Skills"
   ]
  },
  {
   "cell_type": "markdown",
   "id": "b518ba48",
   "metadata": {},
   "source": [
    "Have a few challenges that we will approach to solve using Numpy codes and methods."
   ]
  },
  {
   "cell_type": "markdown",
   "id": "a9523227",
   "metadata": {},
   "source": [
    "#### we will start with importing Numpy library "
   ]
  },
  {
   "cell_type": "code",
   "execution_count": 1,
   "id": "4b18038b",
   "metadata": {},
   "outputs": [],
   "source": [
    "import numpy as np"
   ]
  },
  {
   "cell_type": "markdown",
   "id": "cbf73edb",
   "metadata": {},
   "source": [
    "#### creating arrays with only ones, zeros "
   ]
  },
  {
   "cell_type": "code",
   "execution_count": 3,
   "id": "bf781412",
   "metadata": {},
   "outputs": [
    {
     "data": {
      "text/plain": [
       "array([1., 1., 1., 1., 1., 1., 1., 1., 1., 1.])"
      ]
     },
     "execution_count": 3,
     "metadata": {},
     "output_type": "execute_result"
    }
   ],
   "source": [
    "np.ones(10) "
   ]
  },
  {
   "cell_type": "code",
   "execution_count": 4,
   "id": "b1f87940",
   "metadata": {},
   "outputs": [
    {
     "data": {
      "text/plain": [
       "array([0., 0., 0., 0., 0., 0., 0., 0., 0., 0., 0., 0., 0., 0., 0., 0., 0.,\n",
       "       0., 0., 0.])"
      ]
     },
     "execution_count": 4,
     "metadata": {},
     "output_type": "execute_result"
    }
   ],
   "source": [
    "np.zeros(20)"
   ]
  },
  {
   "cell_type": "markdown",
   "id": "3effb12f",
   "metadata": {},
   "source": [
    "#### creating an array with defined values from 10 to 40"
   ]
  },
  {
   "cell_type": "code",
   "execution_count": 8,
   "id": "30edc8c2",
   "metadata": {},
   "outputs": [
    {
     "data": {
      "text/plain": [
       "array([10, 11, 12, 13, 14, 15, 16, 17, 18, 19, 20, 21, 22, 23, 24, 25, 26,\n",
       "       27, 28, 29, 30, 31, 32, 33, 34, 35, 36, 37, 38, 39, 40])"
      ]
     },
     "execution_count": 8,
     "metadata": {},
     "output_type": "execute_result"
    }
   ],
   "source": [
    "np.arange (10,41)"
   ]
  },
  {
   "cell_type": "code",
   "execution_count": 9,
   "id": "53455eea",
   "metadata": {},
   "outputs": [
    {
     "data": {
      "text/plain": [
       "array([10, 15, 20, 25, 30, 35, 40])"
      ]
     },
     "execution_count": 9,
     "metadata": {},
     "output_type": "execute_result"
    }
   ],
   "source": [
    "np.arange(10,41,5)"
   ]
  },
  {
   "cell_type": "markdown",
   "id": "075983c1",
   "metadata": {},
   "source": [
    "#### Creating a known range array and shaping it at same time "
   ]
  },
  {
   "cell_type": "code",
   "execution_count": 10,
   "id": "e25f2996",
   "metadata": {},
   "outputs": [
    {
     "data": {
      "text/plain": [
       "array([[ 0,  1,  2,  3,  4],\n",
       "       [ 5,  6,  7,  8,  9],\n",
       "       [10, 11, 12, 13, 14],\n",
       "       [15, 16, 17, 18, 19],\n",
       "       [20, 21, 22, 23, 24]])"
      ]
     },
     "execution_count": 10,
     "metadata": {},
     "output_type": "execute_result"
    }
   ],
   "source": [
    "np.arange(25).reshape (5,5)"
   ]
  },
  {
   "cell_type": "code",
   "execution_count": 11,
   "id": "0d93ef45",
   "metadata": {},
   "outputs": [
    {
     "data": {
      "text/plain": [
       "array([[0, 1, 2],\n",
       "       [3, 4, 5],\n",
       "       [6, 7, 8]])"
      ]
     },
     "execution_count": 11,
     "metadata": {},
     "output_type": "execute_result"
    }
   ],
   "source": [
    "np.arange(9).reshape(3,3)"
   ]
  },
  {
   "cell_type": "markdown",
   "id": "541dad06",
   "metadata": {},
   "source": [
    "#### creating an array with random numbers with the value between 0 and 1, and putting it in a 2-dimensional array"
   ]
  },
  {
   "cell_type": "code",
   "execution_count": 13,
   "id": "c834d3ae",
   "metadata": {},
   "outputs": [
    {
     "data": {
      "text/plain": [
       "array([[0.34379021, 0.95232539, 0.42277554, 0.01210707, 0.70315967],\n",
       "       [0.49778401, 0.89486796, 0.63543811, 0.63171566, 0.67374153],\n",
       "       [0.58600217, 0.14943144, 0.36711024, 0.22094175, 0.4212941 ],\n",
       "       [0.18631771, 0.36079691, 0.0691003 , 0.15852072, 0.96290796],\n",
       "       [0.03999046, 0.6053238 , 0.81215621, 0.3754287 , 0.03853721]])"
      ]
     },
     "execution_count": 13,
     "metadata": {},
     "output_type": "execute_result"
    }
   ],
   "source": [
    "np.random.rand(25).reshape(5,5)"
   ]
  },
  {
   "cell_type": "markdown",
   "id": "d4dd2513",
   "metadata": {},
   "source": [
    "#### creating an array with identified values from 0 to 10, putting them into a 2-dimensional matrix, and shaping it "
   ]
  },
  {
   "cell_type": "code",
   "execution_count": 16,
   "id": "7fb7cfaf",
   "metadata": {},
   "outputs": [
    {
     "data": {
      "text/plain": [
       "array([[ 0.        ,  0.1010101 ,  0.2020202 ,  0.3030303 ,  0.4040404 ,\n",
       "         0.50505051,  0.60606061,  0.70707071,  0.80808081,  0.90909091],\n",
       "       [ 1.01010101,  1.11111111,  1.21212121,  1.31313131,  1.41414141,\n",
       "         1.51515152,  1.61616162,  1.71717172,  1.81818182,  1.91919192],\n",
       "       [ 2.02020202,  2.12121212,  2.22222222,  2.32323232,  2.42424242,\n",
       "         2.52525253,  2.62626263,  2.72727273,  2.82828283,  2.92929293],\n",
       "       [ 3.03030303,  3.13131313,  3.23232323,  3.33333333,  3.43434343,\n",
       "         3.53535354,  3.63636364,  3.73737374,  3.83838384,  3.93939394],\n",
       "       [ 4.04040404,  4.14141414,  4.24242424,  4.34343434,  4.44444444,\n",
       "         4.54545455,  4.64646465,  4.74747475,  4.84848485,  4.94949495],\n",
       "       [ 5.05050505,  5.15151515,  5.25252525,  5.35353535,  5.45454545,\n",
       "         5.55555556,  5.65656566,  5.75757576,  5.85858586,  5.95959596],\n",
       "       [ 6.06060606,  6.16161616,  6.26262626,  6.36363636,  6.46464646,\n",
       "         6.56565657,  6.66666667,  6.76767677,  6.86868687,  6.96969697],\n",
       "       [ 7.07070707,  7.17171717,  7.27272727,  7.37373737,  7.47474747,\n",
       "         7.57575758,  7.67676768,  7.77777778,  7.87878788,  7.97979798],\n",
       "       [ 8.08080808,  8.18181818,  8.28282828,  8.38383838,  8.48484848,\n",
       "         8.58585859,  8.68686869,  8.78787879,  8.88888889,  8.98989899],\n",
       "       [ 9.09090909,  9.19191919,  9.29292929,  9.39393939,  9.49494949,\n",
       "         9.5959596 ,  9.6969697 ,  9.7979798 ,  9.8989899 , 10.        ]])"
      ]
     },
     "execution_count": 16,
     "metadata": {},
     "output_type": "execute_result"
    }
   ],
   "source": [
    "np.linspace (0,10,100).reshape(10,10)"
   ]
  },
  {
   "cell_type": "markdown",
   "id": "be1d0678",
   "metadata": {},
   "source": [
    "#### creating an array between 1 and 7 with 20 equal points. "
   ]
  },
  {
   "cell_type": "code",
   "execution_count": 17,
   "id": "f62e7a90",
   "metadata": {},
   "outputs": [
    {
     "data": {
      "text/plain": [
       "array([1.        , 1.31578947, 1.63157895, 1.94736842, 2.26315789,\n",
       "       2.57894737, 2.89473684, 3.21052632, 3.52631579, 3.84210526,\n",
       "       4.15789474, 4.47368421, 4.78947368, 5.10526316, 5.42105263,\n",
       "       5.73684211, 6.05263158, 6.36842105, 6.68421053, 7.        ])"
      ]
     },
     "execution_count": 17,
     "metadata": {},
     "output_type": "execute_result"
    }
   ],
   "source": [
    "np.linspace(1,7,20)"
   ]
  },
  {
   "cell_type": "code",
   "execution_count": 18,
   "id": "666d4c10",
   "metadata": {},
   "outputs": [
    {
     "data": {
      "text/plain": [
       "array([[1.        , 1.31578947, 1.63157895, 1.94736842],\n",
       "       [2.26315789, 2.57894737, 2.89473684, 3.21052632],\n",
       "       [3.52631579, 3.84210526, 4.15789474, 4.47368421],\n",
       "       [4.78947368, 5.10526316, 5.42105263, 5.73684211],\n",
       "       [6.05263158, 6.36842105, 6.68421053, 7.        ]])"
      ]
     },
     "execution_count": 18,
     "metadata": {},
     "output_type": "execute_result"
    }
   ],
   "source": [
    "np.linspace(1,7,20).reshape(5,4)"
   ]
  },
  {
   "cell_type": "markdown",
   "id": "12223819",
   "metadata": {},
   "source": [
    "#### Arrays indexing and slicing "
   ]
  },
  {
   "cell_type": "code",
   "execution_count": 24,
   "id": "d543e28b",
   "metadata": {},
   "outputs": [],
   "source": [
    "arr = np.arange(1,26).reshape(5,5)"
   ]
  },
  {
   "cell_type": "code",
   "execution_count": 25,
   "id": "6586756d",
   "metadata": {},
   "outputs": [
    {
     "data": {
      "text/plain": [
       "array([[ 1,  2,  3,  4,  5],\n",
       "       [ 6,  7,  8,  9, 10],\n",
       "       [11, 12, 13, 14, 15],\n",
       "       [16, 17, 18, 19, 20],\n",
       "       [21, 22, 23, 24, 25]])"
      ]
     },
     "execution_count": 25,
     "metadata": {},
     "output_type": "execute_result"
    }
   ],
   "source": [
    "arr"
   ]
  },
  {
   "cell_type": "code",
   "execution_count": 30,
   "id": "4a9805db",
   "metadata": {},
   "outputs": [
    {
     "data": {
      "text/plain": [
       "24"
      ]
     },
     "execution_count": 30,
     "metadata": {},
     "output_type": "execute_result"
    }
   ],
   "source": [
    "### selecting number 1 \n",
    "arr [0,0]\n",
    "\n",
    "### selecting number 12 \n",
    "arr [2,1]\n",
    "\n",
    "### selecting number 24 \n",
    "arr [4,3]"
   ]
  },
  {
   "cell_type": "code",
   "execution_count": 38,
   "id": "9e929f5c",
   "metadata": {},
   "outputs": [
    {
     "data": {
      "text/plain": [
       "array([[ 7,  8,  9],\n",
       "       [12, 13, 14]])"
      ]
     },
     "execution_count": 38,
     "metadata": {},
     "output_type": "execute_result"
    }
   ],
   "source": [
    "### Select a range the second and third rows with three middle culomns only\n",
    "\n",
    "arr[1:3,1:4]"
   ]
  },
  {
   "cell_type": "code",
   "execution_count": 36,
   "id": "2a09d089",
   "metadata": {},
   "outputs": [
    {
     "data": {
      "text/plain": [
       "array([[20],\n",
       "       [25]])"
      ]
     },
     "execution_count": 36,
     "metadata": {},
     "output_type": "execute_result"
    }
   ],
   "source": [
    "### Select a range the last tworows with last culomn only\n",
    "\n",
    "arr [3:,4:]"
   ]
  },
  {
   "cell_type": "code",
   "execution_count": 37,
   "id": "6bc95e9d",
   "metadata": {},
   "outputs": [
    {
     "data": {
      "text/plain": [
       "array([[ 8,  9, 10],\n",
       "       [13, 14, 15],\n",
       "       [18, 19, 20]])"
      ]
     },
     "execution_count": 37,
     "metadata": {},
     "output_type": "execute_result"
    }
   ],
   "source": [
    "arr [1:4,2:5]"
   ]
  },
  {
   "cell_type": "markdown",
   "id": "dbbd676f",
   "metadata": {},
   "source": [
    "#### Arrays Opersations "
   ]
  },
  {
   "cell_type": "code",
   "execution_count": 39,
   "id": "69bf05b9",
   "metadata": {},
   "outputs": [
    {
     "data": {
      "text/plain": [
       "325"
      ]
     },
     "execution_count": 39,
     "metadata": {},
     "output_type": "execute_result"
    }
   ],
   "source": [
    "### sum of all values in arr\n",
    "\n",
    "arr.sum()"
   ]
  },
  {
   "cell_type": "code",
   "execution_count": 40,
   "id": "ae8c2d51",
   "metadata": {},
   "outputs": [
    {
     "data": {
      "text/plain": [
       "array([55, 60, 65, 70, 75])"
      ]
     },
     "execution_count": 40,
     "metadata": {},
     "output_type": "execute_result"
    }
   ],
   "source": [
    "### sum of values in certain column \n",
    "\n",
    "arr.sum(axis=0)"
   ]
  },
  {
   
   "cell_type": "markdown",
   "id": "06e6c5ca",
   "metadata": {},
   "source": [
    "### - - - - The end - - - -"
   ]
  },
  {
   "cell_type": "code",
   "execution_count": null,
   "id": "e851cc2e",
   "metadata": {},
   "outputs": [],
   "source": []
  }
 ],
 "metadata": {
  "kernelspec": {
   "display_name": "Python 3 (ipykernel)",
   "language": "python",
   "name": "python3"
  },
  "language_info": {
   "codemirror_mode": {
    "name": "ipython",
    "version": 3
   },
   "file_extension": ".py",
   "mimetype": "text/x-python",
   "name": "python",
   "nbconvert_exporter": "python",
   "pygments_lexer": "ipython3",
   "version": "3.9.7"
  }
 },
 "nbformat": 4,
 "nbformat_minor": 5
}
